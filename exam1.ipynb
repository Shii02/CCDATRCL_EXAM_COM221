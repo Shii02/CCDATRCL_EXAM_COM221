{
  "cells": [
    {
      "cell_type": "markdown",
      "metadata": {
        "id": "yaz2B0KGFehP"
      },
      "source": [
        "# Midterm Exam 💛💙"
      ]
    },
    {
      "cell_type": "markdown",
      "metadata": {
        "id": "_DmK1ONEFehQ"
      },
      "source": [
        "**Instructions** ❗️❗️\n",
        "\n",
        "❌ Do not remove or modify the notebook **sections**, **subsections**, **exam questions** or **any text** in this python notebook\n",
        "\n",
        "✔️ Put your answer in the designated cells below each question"
      ]
    },
    {
      "cell_type": "markdown",
      "metadata": {
        "id": "TMCAXKWCFehR"
      },
      "source": [
        "## Search"
      ]
    },
    {
      "cell_type": "code",
      "execution_count": 4,
      "metadata": {
        "id": "Fy8nEBRRFehR"
      },
      "outputs": [],
      "source": [
        "def linearSearch(my_list, number):\n",
        "\n",
        "    index = 0\n",
        "\n",
        "    for i in my_list:\n",
        "\n",
        "        if my_list[index] == number:\n",
        "            return index\n",
        "\n",
        "        index = index + 1\n",
        "\n",
        "    return -1"
      ]
    },
    {
      "cell_type": "markdown",
      "metadata": {
        "id": "AjAevpueFehS"
      },
      "source": [
        "1. Using **linear search**, write a `findLargestIncrease()` function to find the largest increase in value between two adjacent numbers in your student number `(10 points)`\n",
        "\n",
        "    **Example:**\n",
        "\n",
        "    student_number = [2,0,2,2,6,2,5,1,9,3]\n",
        "\n",
        "    **Expected Output:**\n",
        "\n",
        "    findLargestIncrease(student_number)\n",
        "\n",
        "    Output: Between 1 and 9\n",
        "\n",
        "    **Explanation:**\n",
        "\n",
        "    From this student_number, the largest increase happened from number 1 to number 9"
      ]
    },
    {
      "cell_type": "code",
      "execution_count": 7,
      "metadata": {
        "id": "JE8nEfyJFehS"
      },
      "outputs": [],
      "source": [
        "# put your answer here\n",
        "\n",
        "def findLargestIncrease(my_list):\n",
        "\n",
        "  increaseValue = 0\n",
        "  num1 = []\n",
        "\n",
        "\n",
        "  for x in range(len(my_list) -1):\n",
        "\n",
        "    num2 = []\n",
        "    difference = my_list[x+1] - my_list[x]\n",
        "\n",
        "    if difference > increaseValue:\n",
        "      increaseValue = difference\n",
        "\n",
        "      num2.append(my_list[x])\n",
        "      num2.append(my_list[x+1])\n",
        "\n",
        "      num1.clear()\n",
        "      num1.append(num2)\n",
        "\n",
        "    elif difference == increaseValue:\n",
        "      num2.append(my_list[x])\n",
        "      num2.append(my_list[x+1])\n",
        "\n",
        "      num1.append(num2)\n",
        "\n",
        "  print(\"Largest Increase: \", num1)"
      ]
    },
    {
      "cell_type": "code",
      "execution_count": 8,
      "metadata": {
        "colab": {
          "base_uri": "https://localhost:8080/"
        },
        "id": "xRlbF7hkASP4",
        "outputId": "dcb3104c-dd6d-4501-f893-c2800c82322c"
      },
      "outputs": [
        {
          "name": "stdout",
          "output_type": "stream",
          "text": [
            "Largest Increase:  [[0, 5], [4, 9]]\n"
          ]
        }
      ],
      "source": [
        "id_number = [2, 0, 2, 2, 1, 0, 5, 9, 4, 9]\n",
        "\n",
        "findLargestIncrease(id_number)"
      ]
    },
    {
      "cell_type": "markdown",
      "metadata": {
        "id": "nMyr1fNyFehS"
      },
      "source": [
        "2. Using **linear search**, write a `findLargestDecrease()` function to find the largest decrease in value between two adjacent numbers in your student number `(10 points)`\n",
        "\n",
        "    **Example:**\n",
        "\n",
        "    student_number = [2,0,2,2,6,2,5,1,9,3]\n",
        "\n",
        "    **Expected Output:**\n",
        "\n",
        "    findLargestDecrease(student_number)\n",
        "\n",
        "    Output: Between 9 and 3\n",
        "\n",
        "    **Explanation:**\n",
        "\n",
        "    From this student_number, the largest decrease happened from number 9 to number 3"
      ]
    },
    {
      "cell_type": "code",
      "execution_count": 12,
      "metadata": {
        "id": "bfMfQVbVFehS"
      },
      "outputs": [],
      "source": [
        "# put your answer here\n",
        "\n",
        "def findLargestDecrease(my_list):\n",
        "\n",
        "  decreaseValue = 0\n",
        "  num1 = []\n",
        "\n",
        "\n",
        "  for x in range(len(my_list) -1):\n",
        "\n",
        "    num2 = []\n",
        "    difference = my_list[x] - my_list[x+1]\n",
        "\n",
        "    if difference > decreaseValue:\n",
        "      decreaseValue = difference\n",
        "\n",
        "      num2.append(my_list[x+1])\n",
        "      num2.append(my_list[x])\n",
        "\n",
        "      num1.clear()\n",
        "      num1.append(num2)\n",
        "\n",
        "    elif difference == decreaseValue:\n",
        "      num2.append(my_list[x+1])\n",
        "      num2.append(my_list[x])\n",
        "\n",
        "      num1.append(num2)\n",
        "\n",
        "  print(\"Largest Decrease: \", num1)"
      ]
    },
    {
      "cell_type": "code",
      "execution_count": 13,
      "metadata": {
        "colab": {
          "base_uri": "https://localhost:8080/"
        },
        "id": "jYX4ukHoI5Dw",
        "outputId": "5e543d1d-4f27-49d6-cd18-d8eaa3e526b4"
      },
      "outputs": [
        {
          "name": "stdout",
          "output_type": "stream",
          "text": [
            "Largest Decrease:  [[4, 9]]\n"
          ]
        }
      ],
      "source": [
        "findLargestDecrease(id_number)"
      ]
    },
    {
      "cell_type": "markdown",
      "metadata": {
        "id": "NtKSQn9QFehS"
      },
      "source": [
        "## Linked List"
      ]
    },
    {
      "cell_type": "code",
      "execution_count": null,
      "metadata": {
        "id": "0HP5zyJcFehS"
      },
      "outputs": [],
      "source": [
        "class Node:\n",
        "\n",
        "    def __init__(self, data):\n",
        "        self.data = data\n",
        "        self.next = None  # null"
      ]
    },
    {
      "cell_type": "code",
      "execution_count": null,
      "metadata": {
        "id": "A-8Uefe7FehS"
      },
      "outputs": [],
      "source": [
        "class LinkedList:\n",
        "\n",
        "    def __init__(self):\n",
        "        self.head = None\n",
        "\n",
        "    def traverse(self, node):\n",
        "        while node:\n",
        "            print(node.data, end=\" -> \")\n",
        "            node = node.next"
      ]
    },
    {
      "cell_type": "markdown",
      "metadata": {
        "id": "uPgIJJuSFehT"
      },
      "source": [
        "**Instructions** ❗️❗️\n",
        "\n",
        "Use the pre-defined linked list class/functions to create a linked list"
      ]
    },
    {
      "cell_type": "markdown",
      "metadata": {
        "id": "WIwpW7Q2FehT"
      },
      "source": [
        "1. Create a Singly linked list named **num_list** and print all of its elements. `(5 points)`\n",
        "\n",
        "- **num_list** should contain all digits of your student number.\n",
        "\n",
        "    **Expected Output:**\n",
        "\n",
        "    print(num_list)\n",
        "\n",
        "    [2, 0, 2, 2, 1, 2, 3, 4, 5, 6]"
      ]
    },
    {
      "cell_type": "code",
      "execution_count": null,
      "metadata": {
        "colab": {
          "base_uri": "https://localhost:8080/"
        },
        "id": "Lihv0JPiFehT",
        "outputId": "47d32b2e-7d2c-4731-d6ff-c4a5262f98ae"
      },
      "outputs": [
        {
          "name": "stdout",
          "output_type": "stream",
          "text": [
            "2 -> 0 -> 2 -> 2 -> 1 -> 0 -> 5 -> 9 -> 4 -> 9 -> "
          ]
        }
      ],
      "source": [
        "# put your answer here\n",
        "\n",
        "numList = LinkedList()\n",
        "\n",
        "numList.head = Node(2)\n",
        "n2 = Node(0)\n",
        "n3 = Node(2)\n",
        "n4= Node(2)\n",
        "n5 = Node(1)\n",
        "n6 = Node(0)\n",
        "n7 = Node(5)\n",
        "n8 = Node(9)\n",
        "n9 = Node(4)\n",
        "tail = Node(9)\n",
        "\n",
        "numList.head.next = n2\n",
        "n2.next = n3\n",
        "n3.next = n4\n",
        "n4.next = n5\n",
        "n5.next = n6\n",
        "n6.next = n7\n",
        "n7.next = n8\n",
        "n8.next = n9\n",
        "n9.next = tail\n",
        "\n",
        "numList.traverse(numList.head)"
      ]
    },
    {
      "cell_type": "markdown",
      "metadata": {
        "id": "dqA2UYrYFehT"
      },
      "source": [
        "2. Write a `hasPrime()` function to test whether a prime number is in the last six digits of **num_list**. `(5 points)`\n",
        "\n",
        "- If a prime number is in the last six digits of **num_list**, the method should return **true**\n",
        "\n",
        "- If a prime number is not in the last six digits of **num_list**, the method should return **false**\n",
        "\n",
        "    **Expected Output:**\n",
        "\n",
        "    hasPrime(num_list)\n",
        "\n",
        "    True"
      ]
    },
    {
      "cell_type": "code",
      "execution_count": 262,
      "metadata": {
        "id": "GYwsQNz5FehT"
      },
      "outputs": [],
      "source": [
        "# put your answer here\n",
        "\n",
        "def hasPrime(num_list):\n",
        "\n",
        "  temp = num_list.head\n",
        "\n",
        "  counter = 0\n",
        "  primeCounter = 0\n",
        "  primeNum = []\n",
        "\n",
        "  while (temp is not None):\n",
        "    if counter > 3:\n",
        "      prime = [2, 3, 5, 7]\n",
        "\n",
        "      if temp.data in prime:\n",
        "        primeCounter += 1\n",
        "        primeNum.append(temp.data)\n",
        "\n",
        "    counter += 1\n",
        "    temp = temp.next\n",
        "\n",
        "  if(counter > 0):\n",
        "    print(\"Prime Number/s:\", primeNum)\n",
        "    return True\n",
        "\n",
        "  else:\n",
        "    return False\n",
        "\n",
        "  if(temp == None):\n",
        "      return"
      ]
    },
    {
      "cell_type": "code",
      "execution_count": 263,
      "metadata": {
        "colab": {
          "base_uri": "https://localhost:8080/"
        },
        "id": "Y2PWt2mEVvx5",
        "outputId": "e76181bc-d71c-41f8-e7c5-a9a30d744e68"
      },
      "outputs": [
        {
          "name": "stdout",
          "output_type": "stream",
          "text": [
            "Prime Number/s: [5]\n"
          ]
        },
        {
          "data": {
            "text/plain": [
              "True"
            ]
          },
          "execution_count": 263,
          "metadata": {},
          "output_type": "execute_result"
        }
      ],
      "source": [
        "hasPrime(numList)"
      ]
    },
    {
      "cell_type": "markdown",
      "metadata": {
        "id": "5Qb0BOiwFehT"
      },
      "source": [
        "3. Write a `removeZeroes()` function to remove all occurrences of zeroes in **num_list**. `(5 points)`\n",
        "\n",
        "- If a zero is in **num_list**, return **num_list**\n",
        "\n",
        "- If there are no zeroes in **num_list**, return **\"no zeros found\"**\n",
        "\n",
        "    **Expected Output:**\n",
        "\n",
        "    removeZeroes(num_list)\n",
        "\n",
        "    [2, 2, 1, 2, 3, 4, 5, 6]"
      ]
    },
    {
      "cell_type": "code",
      "execution_count": 264,
      "metadata": {
        "id": "k1vAHUYuFehT"
      },
      "outputs": [],
      "source": [
        "# put your answer here\n",
        "\n",
        "def removeZeroes(num_list):\n",
        "\n",
        "  temp = num_list.head\n",
        "\n",
        "  num_list = []\n",
        "\n",
        "  zeroCounter = 0\n",
        "\n",
        "  while (temp is not None):\n",
        "\n",
        "    if temp.data == 0:\n",
        "        zeroCounter += 1\n",
        "\n",
        "    else:\n",
        "        num_list.append(temp.data)\n",
        "\n",
        "    temp = temp.next\n",
        "\n",
        "  if(zeroCounter > 0):\n",
        "    return num_list\n",
        "\n",
        "  else:\n",
        "    return \"No zeroes found.\"\n",
        "\n",
        "  if(temp == None):\n",
        "      return\n"
      ]
    },
    {
      "cell_type": "code",
      "execution_count": null,
      "metadata": {
        "colab": {
          "base_uri": "https://localhost:8080/"
        },
        "id": "l-x2Krd7kyAY",
        "outputId": "1b81f6b7-3c5a-453a-da64-6cc221b5332c"
      },
      "outputs": [
        {
          "data": {
            "text/plain": [
              "[2, 2, 2, 1, 5, 9, 4, 9]"
            ]
          },
          "execution_count": 104,
          "metadata": {},
          "output_type": "execute_result"
        }
      ],
      "source": [
        "removeZeroes(numList)"
      ]
    },
    {
      "cell_type": "markdown",
      "metadata": {
        "id": "SKAlpglNFehT"
      },
      "source": [
        "4. Insert a dash symbol between the 4th and 5th digit in **num_list**. `(5 points)`\n",
        "\n",
        "    **Expected Output:**\n",
        "\n",
        "    print(num_list)\n",
        "\n",
        "    [2, 0, 2, 2, \"-\", 1, 2, 3, 4, 5, 6]"
      ]
    },
    {
      "cell_type": "code",
      "execution_count": 265,
      "metadata": {
        "colab": {
          "base_uri": "https://localhost:8080/"
        },
        "id": "vF7fimZ-FehT",
        "outputId": "8e44a43c-fdf5-4e16-e370-d94327b46109"
      },
      "outputs": [
        {
          "name": "stdout",
          "output_type": "stream",
          "text": [
            "2 -> 0 -> 2 -> 2 -> - -> 1 -> 0 -> 5 -> 9 -> 4 -> 9 -> "
          ]
        }
      ],
      "source": [
        "n4a = Node(\"-\")\n",
        "\n",
        "n4.next = n4a\n",
        "n4a.next = n5\n",
        "\n",
        "numList.traverse(numList.head)"
      ]
    },
    {
      "cell_type": "markdown",
      "metadata": {
        "id": "KkC-LgdxFehT"
      },
      "source": [
        "## Stack"
      ]
    },
    {
      "cell_type": "code",
      "execution_count": 224,
      "metadata": {
        "id": "UYTqB1u_FehU"
      },
      "outputs": [],
      "source": [
        "# Creating a stack\n",
        "def create_stack():\n",
        "    stack = []\n",
        "    return stack\n",
        "\n",
        "\n",
        "def print_stack(stack):\n",
        "\n",
        "    if (check_empty(stack)):\n",
        "        return \"stack is empty\"\n",
        "\n",
        "    # Create a copy of the stack and reverse the elements\n",
        "    tempStack = stack.copy()\n",
        "    tempStack.reverse()\n",
        "\n",
        "    # Print all elements using a loop\n",
        "    for i in tempStack:\n",
        "        print(i)\n",
        "\n",
        "    # Delete the copy to free up memory\n",
        "    del tempStack\n",
        "\n",
        "# Creating an empty stack\n",
        "\n",
        "\n",
        "def check_empty(stack):\n",
        "    return len(stack) == 0\n",
        "\n",
        "\n",
        "# Adding items into the stack\n",
        "def push(stack, item):\n",
        "    stack.append(item)\n",
        "    print(\"pushed item: \", item)\n",
        "\n",
        "\n",
        "# Removing an element from the stack\n",
        "def pop(stack):\n",
        "    if (check_empty(stack)):\n",
        "        return \"stack is empty\"\n",
        "\n",
        "    return stack.pop()\n",
        "\n",
        "\n",
        "def peek(stack):\n",
        "\n",
        "    # Use negative indexing to display the last element of the list\n",
        "    print(stack[-1])"
      ]
    },
    {
      "cell_type": "markdown",
      "metadata": {
        "id": "wLAQchs8FehU"
      },
      "source": [
        "**Instructions** ❗️❗️\n",
        "\n",
        "Use the pre-defined stack class/functions to create a stack"
      ]
    },
    {
      "cell_type": "markdown",
      "metadata": {
        "id": "37cg9BoCFehU"
      },
      "source": [
        "1. Create two (2) stacks named **name_stack** and **num_stack** `(5 points)`\n",
        "\n",
        "- **name_stack** should contain all letters of your first name.\n",
        "- **num_stack** should contain all digits of your student number.\n",
        "\n",
        "    **Expected Output:**\n",
        "\n",
        "    print(name_stack)\n",
        "\n",
        "    ['E', 'L', 'I', 'Z', 'E', 'R']\n",
        "\n",
        "    print(num_stack)\n",
        "\n",
        "    [2,0,2,2,1,2,3,4,5,6]"
      ]
    },
    {
      "cell_type": "code",
      "execution_count": 225,
      "metadata": {
        "colab": {
          "base_uri": "https://localhost:8080/"
        },
        "id": "HlUIUQzQFehU",
        "outputId": "39d0a7ca-013e-4c60-d4bc-e6a688c78737"
      },
      "outputs": [
        {
          "name": "stdout",
          "output_type": "stream",
          "text": [
            "pushed item:  C\n",
            "pushed item:  A\n",
            "pushed item:  R\n",
            "pushed item:  L\n",
            "pushed item:  A\n",
            "pushed item:  R\n",
            "pushed item:  V\n",
            "pushed item:  I\n",
            "pushed item:  N\n",
            "pushed item:  2\n",
            "pushed item:  0\n",
            "pushed item:  2\n",
            "pushed item:  2\n",
            "pushed item:  1\n",
            "pushed item:  0\n",
            "pushed item:  5\n",
            "pushed item:  9\n",
            "pushed item:  4\n",
            "pushed item:  9\n",
            "['C', 'A', 'R', 'L', 'A', 'R', 'V', 'I', 'N']\n",
            "['2', '0', '2', '2', '1', '0', '5', '9', '4', '9']\n"
          ]
        }
      ],
      "source": [
        "# put your answer here\n",
        "\n",
        "name_stack = create_stack()\n",
        "\n",
        "\n",
        "push(name_stack, \"C\")\n",
        "push(name_stack, \"A\")\n",
        "push(name_stack, \"R\")\n",
        "push(name_stack, \"L\")\n",
        "push(name_stack, \"A\")\n",
        "push(name_stack, \"R\")\n",
        "push(name_stack, \"V\")\n",
        "push(name_stack, \"I\")\n",
        "push(name_stack, \"N\")\n",
        "\n",
        "num_stack = create_stack()\n",
        "\n",
        "push(num_stack, \"2\")\n",
        "push(num_stack, \"0\")\n",
        "push(num_stack, \"2\")\n",
        "push(num_stack, \"2\")\n",
        "push(num_stack, \"1\")\n",
        "push(num_stack, \"0\")\n",
        "push(num_stack, \"5\")\n",
        "push(num_stack, \"9\")\n",
        "push(num_stack, \"4\")\n",
        "push(num_stack, \"9\")\n",
        "\n",
        "print(name_stack)\n",
        "print(num_stack)\n"
      ]
    },
    {
      "cell_type": "markdown",
      "metadata": {
        "id": "8cySe9LXFehU"
      },
      "source": [
        "2. Create a stack named **my_stack** that follows the following format: `(5 points)`\n",
        "\n",
        "- The first element should be the **5th digit in your student number**\n",
        "- The succeeding elements should be the letters of your **first name**\n",
        "- The last element should be the **last digit of your student number**\n",
        "\n",
        "    **Expected Output:**\n",
        "\n",
        "    my_stack = [1, E, L, I, Z, E, R, 6]"
      ]
    },
    {
      "cell_type": "code",
      "execution_count": 226,
      "metadata": {
        "colab": {
          "base_uri": "https://localhost:8080/"
        },
        "id": "bEnCoAhjFehU",
        "outputId": "7eac21ee-6e11-486a-f4b5-ac9d5d8a3a8b"
      },
      "outputs": [
        {
          "name": "stdout",
          "output_type": "stream",
          "text": [
            "pushed item:  1\n",
            "pushed item:  C\n",
            "pushed item:  A\n",
            "pushed item:  R\n",
            "pushed item:  L\n",
            "pushed item:  A\n",
            "pushed item:  R\n",
            "pushed item:  V\n",
            "pushed item:  I\n",
            "pushed item:  N\n",
            "pushed item:  9\n",
            "['1', 'C', 'A', 'R', 'L', 'A', 'R', 'V', 'I', 'N', '9']\n"
          ]
        }
      ],
      "source": [
        "# put your answer here\n",
        "\n",
        "\n",
        "my_stack = create_stack()\n",
        "\n",
        "push(my_stack, \"1\")\n",
        "push(my_stack, \"C\")\n",
        "push(my_stack, \"A\")\n",
        "push(my_stack, \"R\")\n",
        "push(my_stack, \"L\")\n",
        "push(my_stack, \"A\")\n",
        "push(my_stack, \"R\")\n",
        "push(my_stack, \"V\")\n",
        "push(my_stack, \"I\")\n",
        "push(my_stack, \"N\")\n",
        "push(my_stack, \"9\")\n",
        "\n",
        "print(my_stack)"
      ]
    },
    {
      "cell_type": "markdown",
      "metadata": {
        "id": "8a8_KP5nFehU"
      },
      "source": [
        "3. Write a `verifyStack()` function that will take in `my_stack` and check if its format has been followed `(10 points)`\n",
        "\n",
        "- Return **True** if the format has been followed\n",
        "- Return **False** if the format was not followed\n",
        "- Verify the format by checking the contents of **my_stack** with **name_stack** and **num_stack**\n",
        "\n",
        "    **Expected Output:**\n",
        "\n",
        "    my_stack = [1, E, L, I, Z, E, R, 6]\n",
        "\n",
        "    verifyStack(my_stack)\n",
        "\n",
        "    True\n",
        "\n",
        "    my_stack = [1, S, L, I, Z, E, R, 7]\n",
        "\n",
        "    verifyStack(my_stack)\n",
        "\n",
        "    False"
      ]
    },
    {
      "cell_type": "code",
      "execution_count": 227,
      "metadata": {
        "id": "RdANSxD0FehU"
      },
      "outputs": [],
      "source": [
        "# put your answer here\n",
        "\n",
        "def verifyStack(my_stack):\n",
        "  check = 0\n",
        "\n",
        "  if my_stack[0] == num_stack[4] and my_stack[len(my_stack) - 1] == num_stack[len(num_stack) - 1]:\n",
        "    check = check + 2\n",
        "\n",
        "    for x in range(len(my_stack)):\n",
        "      if x > 0 and x < len(my_stack) - 1:\n",
        "        if my_stack[x] == name_stack[x - 1]:\n",
        "          check += 1\n",
        "\n",
        "\n",
        "  if check == len(my_stack):\n",
        "    return True\n",
        "  else:\n",
        "    return False\n"
      ]
    },
    {
      "cell_type": "code",
      "execution_count": 261,
      "metadata": {
        "colab": {
          "base_uri": "https://localhost:8080/"
        },
        "id": "GNIv7uti2sx8",
        "outputId": "051099db-da5e-4690-8525-e84328d4f73f"
      },
      "outputs": [
        {
          "data": {
            "text/plain": [
              "True"
            ]
          },
          "execution_count": 261,
          "metadata": {},
          "output_type": "execute_result"
        }
      ],
      "source": [
        "verifyStack(my_stack)"
      ]
    },
    {
      "cell_type": "markdown",
      "metadata": {
        "id": "UC5C64B2FehU"
      },
      "source": [
        "## Queue"
      ]
    },
    {
      "cell_type": "code",
      "execution_count": 229,
      "metadata": {
        "id": "NJJ0j0LHFehU"
      },
      "outputs": [],
      "source": [
        "class Queue:\n",
        "    def __init__(self):\n",
        "        self.queue = []\n",
        "\n",
        "    # Add an element\n",
        "    def enqueue(self, item):\n",
        "        self.queue.append(item)\n",
        "\n",
        "    # Remove an element\n",
        "    def dequeue(self):\n",
        "        if len(self.queue) < 1:\n",
        "            return None\n",
        "        return self.queue.pop(0)\n",
        "\n",
        "    # Display  the queue\n",
        "    def display(self):\n",
        "        print(self.queue)\n",
        "\n",
        "    def size(self):\n",
        "        return len(self.queue)\n",
        "\n",
        "    def peek(self):\n",
        "        return self.queue[0]"
      ]
    },
    {
      "cell_type": "markdown",
      "metadata": {
        "id": "80OekpbeFehV"
      },
      "source": [
        "**Instructions** ❗️❗️\n",
        "\n",
        "Use the pre-defined queue class/functions to create a Queue"
      ]
    },
    {
      "cell_type": "markdown",
      "metadata": {
        "id": "_Hf0OP5cFehV"
      },
      "source": [
        "1. Create a simple queue named **num_queue** `(5 points)`\n",
        "\n",
        "- **num_queue** should contain all digits of your student number.\n",
        "\n",
        "    **Expected Output:**\n",
        "\n",
        "    print(num_queue)\n",
        "\n",
        "    [2,0,2,2,1,2,3,4,5,6]"
      ]
    },
    {
      "cell_type": "code",
      "execution_count": 230,
      "metadata": {
        "colab": {
          "base_uri": "https://localhost:8080/"
        },
        "id": "_mgmE4ArFehV",
        "outputId": "c044470b-1373-4d5a-f601-404cd05df0d6"
      },
      "outputs": [
        {
          "name": "stdout",
          "output_type": "stream",
          "text": [
            "[2, 0, 2, 2, 1, 0, 5, 9, 4, 9]\n"
          ]
        }
      ],
      "source": [
        "# put your answer here\n",
        "\n",
        "num_queue = Queue()\n",
        "\n",
        "num_queue.enqueue(2)\n",
        "num_queue.enqueue(0)\n",
        "num_queue.enqueue(2)\n",
        "num_queue.enqueue(2)\n",
        "num_queue.enqueue(1)\n",
        "num_queue.enqueue(0)\n",
        "num_queue.enqueue(5)\n",
        "num_queue.enqueue(9)\n",
        "num_queue.enqueue(4)\n",
        "num_queue.enqueue(9)\n",
        "\n",
        "num_queue.display()"
      ]
    },
    {
      "cell_type": "markdown",
      "metadata": {
        "id": "1pHG8t6DFehV"
      },
      "source": [
        "2. Write a `getMax()` or `getMin()` function for **num_queue** `(5 points)`\n",
        "\n",
        "- If your student number ends with an odd number, create a `getMax()` function that will return the largest number in **num_queue**\n",
        "- If your student number ends with an even number, create a `getMin()` function that will return the lowest number in **num_queue**\n",
        "\n",
        "    **Expected Output for getMax():**\n",
        "\n",
        "    getMax(num_queue)\n",
        "\n",
        "    6\n",
        "\n",
        "    **Expected Output for getMin():**\n",
        "\n",
        "    getMin(num_queue)\n",
        "\n",
        "    0"
      ]
    },
    {
      "cell_type": "code",
      "execution_count": 231,
      "metadata": {
        "id": "itj2U610FehV"
      },
      "outputs": [],
      "source": [
        "# put your answer here\n",
        "\n",
        "def getMax(num_queue):\n",
        "  x = 0\n",
        "\n",
        "  for i in num_queue.queue:\n",
        "    if i > x:\n",
        "      x = i\n",
        "\n",
        "  return x\n",
        "\n",
        "def getMin(num_queue):\n",
        "  x = 9\n",
        "\n",
        "  for i in num_queue.queue:\n",
        "\n",
        "    if i < x:\n",
        "      x = i\n",
        "\n",
        "  return x\n"
      ]
    },
    {
      "cell_type": "code",
      "execution_count": 260,
      "metadata": {
        "colab": {
          "base_uri": "https://localhost:8080/"
        },
        "id": "bzocOYks6ih5",
        "outputId": "cffc2d85-d766-4d1a-81f7-96dfb99b7042"
      },
      "outputs": [
        {
          "name": "stdout",
          "output_type": "stream",
          "text": [
            "9\n"
          ]
        }
      ],
      "source": [
        "if num_queue.queue[len(num_queue.queue) - 1] % 2 == 0:\n",
        "  print(getMin(num_queue))\n",
        "\n",
        "else:\n",
        "  print(getMax(num_queue))"
      ]
    },
    {
      "cell_type": "markdown",
      "metadata": {
        "id": "YkgmP6GwFehV"
      },
      "source": [
        "3. Write a `getOdd()` or `getEven()` function for  **num_queue** `(5 points)`\n",
        "\n",
        "- If your student number ends with an **odd number**, create a `getOdd()` function that will return all odd numbers in **num_queue**\n",
        "- If your student number ends with an **even number**, create a `getEven()` function that will return all even numbers in **num_queue**\n",
        "\n",
        "    **Expected Output for getOdd():**\n",
        "\n",
        "    getOdd(num_queue)\n",
        "\n",
        "    [1, 3, 5]\n",
        "\n",
        "    **Expected Output for getEven():**\n",
        "\n",
        "    getEven(num_queue)\n",
        "\n",
        "    [0, 2, 4, 6]"
      ]
    },
    {
      "cell_type": "code",
      "execution_count": 233,
      "metadata": {
        "id": "2Bc7E1zNFehV"
      },
      "outputs": [],
      "source": [
        "# put your answer here\n",
        "\n",
        "def getOdd(num_queue):\n",
        "  n = []\n",
        "\n",
        "  for i in num_queue.queue:\n",
        "    if i % 2 != 0:\n",
        "      n.append(i)\n",
        "  return n\n",
        "\n",
        "def getEven(num_queue):\n",
        "  n = []\n",
        "\n",
        "  for i in num_queue.queue:\n",
        "    if i % 2 == 0:\n",
        "      n.append(i)\n",
        "  return n\n"
      ]
    },
    {
      "cell_type": "code",
      "execution_count": 234,
      "metadata": {
        "colab": {
          "base_uri": "https://localhost:8080/"
        },
        "id": "4MHvhEhB9uAF",
        "outputId": "97b76fed-1286-4b98-aaf5-1bedfea2dbf8"
      },
      "outputs": [
        {
          "name": "stdout",
          "output_type": "stream",
          "text": [
            "[1, 5, 9, 9]\n"
          ]
        }
      ],
      "source": [
        "if num_queue.queue[len(num_queue.queue) - 1] % 2 == 0:\n",
        "  print(getEven(num_queue))\n",
        "\n",
        "else:\n",
        "  print(getOdd(num_queue))"
      ]
    },
    {
      "cell_type": "markdown",
      "metadata": {
        "id": "kuzWF5g4FehV"
      },
      "source": [
        "4. Write a `removeDup()` function that will remove all duplicates in **num_queue** `(5 points)`\n",
        "\n",
        "    **Expected Output:**\n",
        "\n",
        "    removeDup(num_queue)\n",
        "\n",
        "    [2,0,1,3,4,5,6]"
      ]
    },
    {
      "cell_type": "code",
      "execution_count": 235,
      "metadata": {
        "id": "I8LeQP8MFehY"
      },
      "outputs": [],
      "source": [
        "# put your answer here\n",
        "\n",
        "def removeDup(num_queue):\n",
        "  n = []\n",
        "\n",
        "  for i in num_queue.queue:\n",
        "    if i in n:\n",
        "      continue\n",
        "    else:\n",
        "      n.append(i)\n",
        "  return n"
      ]
    },
    {
      "cell_type": "code",
      "execution_count": 236,
      "metadata": {
        "colab": {
          "base_uri": "https://localhost:8080/"
        },
        "id": "-GqAAwQw-wwO",
        "outputId": "a1df3160-8ee8-4f6a-9c8e-b02732377941"
      },
      "outputs": [
        {
          "data": {
            "text/plain": [
              "[2, 0, 1, 5, 9, 4]"
            ]
          },
          "execution_count": 236,
          "metadata": {},
          "output_type": "execute_result"
        }
      ],
      "source": [
        "removeDup(num_queue)"
      ]
    },
    {
      "cell_type": "markdown",
      "metadata": {
        "id": "LVfZTh8YFehZ"
      },
      "source": [
        "## Sort"
      ]
    },
    {
      "cell_type": "markdown",
      "metadata": {
        "id": "bm9lonfzFehZ"
      },
      "source": [
        "**Instructions** ❗️❗️\n",
        "\n",
        "Use the any sorting algoritms"
      ]
    },
    {
      "cell_type": "code",
      "execution_count": 238,
      "metadata": {
        "id": "tYhTiFH6BSu-"
      },
      "outputs": [],
      "source": [
        "# Bubble sort in Python\n",
        "def bubbleSort(array):\n",
        "\n",
        "  # loop to access each array element\n",
        "  for i in range(len(array)):\n",
        "\n",
        "    # loop to compare array elements\n",
        "    for j in range(0, len(array) - i - 1):\n",
        "\n",
        "      # compare two adjacent elements\n",
        "      # change > to < to sort in descending order\n",
        "      if array[j] > array[j + 1]:\n",
        "\n",
        "        # swapping elements if elements\n",
        "        # are not in the intended order\n",
        "        temp = array[j]\n",
        "        array[j] = array[j+1]\n",
        "        array[j+1] = temp"
      ]
    },
    {
      "cell_type": "markdown",
      "metadata": {
        "id": "EJTlxhEdFehZ"
      },
      "source": [
        "1. Using any sorting algorithm, sort the **last 6 digits** of your student number in ascending order `(5 points)`\n",
        "\n",
        "    **Example:**\n",
        "\n",
        "    student_number = [2,0,2,2,6,2,5,1,3,4]\n",
        "\n",
        "    **Expected Output:**\n",
        "\n",
        "    print(student_number)\n",
        "\n",
        "    [2,0,2,2,1,2,3,4,5,6]\n"
      ]
    },
    {
      "cell_type": "code",
      "execution_count": 259,
      "metadata": {
        "colab": {
          "base_uri": "https://localhost:8080/"
        },
        "id": "MkZKfveOFehZ",
        "outputId": "fb1d6553-694f-4f58-e5cf-7dad2407bddd"
      },
      "outputs": [
        {
          "name": "stdout",
          "output_type": "stream",
          "text": [
            "\n",
            "Sorted Student ID: \n",
            "[2, 0, 2, 2, 0, 1, 4, 5, 9, 9]\n"
          ]
        }
      ],
      "source": [
        "# put your answer here\n",
        "\n",
        "student_number = [2, 0, 2, 2, 1, 0, 5, 9, 4, 9]\n",
        "sorted_student_number = []\n",
        "\n",
        "for x in range(len(student_number)):\n",
        "\n",
        "  if x > 3:\n",
        "    bubbleSort(student_number)\n",
        "    sorted_student_number.append(student_number.pop(0))\n",
        "\n",
        "  else:\n",
        "    sorted_student_number.append(student_number.pop(0))\n",
        "\n",
        "print(\"\\nSorted Student ID: \")\n",
        "print(sorted_student_number)"
      ]
    },
    {
      "cell_type": "markdown",
      "metadata": {
        "id": "sC2JZRZMFehZ"
      },
      "source": [
        "2. Using your student_number, separately sort the even numbers in **increasing order** and the odd numbers in **decreasing order** `(15 points)`\n",
        "\n",
        "    **Example:**\n",
        "\n",
        "    student_number = [2,0,2,2,1,2,3,4,5,6]\n",
        "\n",
        "    **Expected Output:**\n",
        "\n",
        "    print(student_number)\n",
        "\n",
        "    [0,2,2,2,2,4,6,5,3,1]"
      ]
    },
    {
      "cell_type": "code",
      "execution_count": 258,
      "metadata": {
        "colab": {
          "base_uri": "https://localhost:8080/"
        },
        "id": "hWOh_ohcFehZ",
        "outputId": "fc7787ac-0c5f-4941-e981-0154e26ba3f2"
      },
      "outputs": [
        {
          "name": "stdout",
          "output_type": "stream",
          "text": [
            "\n",
            "Sorted Student ID: \n",
            "[0, 0, 2, 2, 2, 4, 9, 9, 5, 1]\n"
          ]
        }
      ],
      "source": [
        "# put your answer here\n",
        "\n",
        "student_number = [2, 0, 2, 2, 1, 0, 5, 9, 4, 9]\n",
        "oddNum = []\n",
        "evenNum = []\n",
        "\n",
        "while (len(student_number) != 0):\n",
        "\n",
        "  if student_number[0] % 2 == 0:\n",
        "    evenNum.append(student_number.pop(0))\n",
        "  else:\n",
        "    oddNum.append(student_number.pop(0))\n",
        "\n",
        "bubbleSort(oddNum)\n",
        "bubbleSort(evenNum)\n",
        "\n",
        "while (len(evenNum) != 0):\n",
        "  student_number.append(evenNum.pop(0))\n",
        "\n",
        "while(len(oddNum) != 0):\n",
        "  student_number.append(oddNum.pop(len(oddNum) - 1))\n",
        "\n",
        "print(\"\\nSorted Student ID: \")\n",
        "print(student_number)"
      ]
    }
  ],
  "metadata": {
    "colab": {
      "collapsed_sections": [
        "TMCAXKWCFehR",
        "NtKSQn9QFehS",
        "KkC-LgdxFehT",
        "UC5C64B2FehU",
        "LVfZTh8YFehZ"
      ],
      "provenance": []
    },
    "kernelspec": {
      "display_name": "Python 3",
      "language": "python",
      "name": "python3"
    },
    "language_info": {
      "codemirror_mode": {
        "name": "ipython",
        "version": 3
      },
      "file_extension": ".py",
      "mimetype": "text/x-python",
      "name": "python",
      "nbconvert_exporter": "python",
      "pygments_lexer": "ipython3",
      "version": "3.9.6"
    },
    "orig_nbformat": 4
  },
  "nbformat": 4,
  "nbformat_minor": 0
}
